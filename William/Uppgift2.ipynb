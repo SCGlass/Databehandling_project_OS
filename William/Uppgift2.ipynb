{
 "cells": [
  {
   "cell_type": "markdown",
   "metadata": {},
   "source": [
    "# Uppgift 2 \n",
    "\n",
    "- sports: Volleyball, Alpine Skiing \n"
   ]
  },
  {
   "cell_type": "code",
   "execution_count": null,
   "metadata": {},
   "outputs": [],
   "source": [
    "import pandas as pd \n",
    "\n",
    "athletes_events_df = pd.read.csv(\"../Data/at\")"
   ]
  },
  {
   "cell_type": "code",
   "execution_count": null,
   "metadata": {},
   "outputs": [],
   "source": [
    "import dash_bootstrap_components as dbc\n",
    "from dash import dcc, html\n",
    "from load_data import SportStatistics\n",
    "\n",
    "sport_statistics = SportStatistics # Object\n",
    "\n",
    "\n"
   ]
  },
  {
   "cell_type": "code",
   "execution_count": null,
   "metadata": {},
   "outputs": [],
   "source": [
    "import pandas as pd \n",
    "import plotly_express as px\n",
    "import os\n",
    "\n",
    "# Sport - Alpine Skiing\n",
    "\n",
    "def Alpine_medals_countries(): \n",
    "\n",
    "    \n",
    "\n",
    "\n",
    "    \n"
   ]
  }
 ],
 "metadata": {
  "kernelspec": {
   "display_name": "Python 3.9.13 ('Databehandling_project_OS-zyWeTek9')",
   "language": "python",
   "name": "python3"
  },
  "language_info": {
   "name": "python",
   "version": "3.9.13"
  },
  "orig_nbformat": 4,
  "vscode": {
   "interpreter": {
    "hash": "bf349d7c5f3c7b66dcdbf469fb7935988c8e89ec98de7198088923f95c719a85"
   }
  }
 },
 "nbformat": 4,
 "nbformat_minor": 2
}
