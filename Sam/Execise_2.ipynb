{
 "cells": [
  {
   "cell_type": "code",
   "execution_count": null,
   "metadata": {},
   "outputs": [],
   "source": []
  }
 ],
 "metadata": {
  "kernelspec": {
   "display_name": "Python 3.9.13 ('Databehandling_project_OS-ZMxZ2AEA')",
   "language": "python",
   "name": "python3"
  },
  "language_info": {
   "name": "python",
   "version": "3.9.13"
  },
  "orig_nbformat": 4,
  "vscode": {
   "interpreter": {
    "hash": "58153ff80201153b7a9ad3d5bb6cbe1a47be029f27f8beedda1e5690857d0227"
   }
  }
 },
 "nbformat": 4,
 "nbformat_minor": 2
}
